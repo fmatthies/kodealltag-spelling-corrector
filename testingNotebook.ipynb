{
 "cells": [
  {
   "cell_type": "code",
   "execution_count": 1,
   "metadata": {
    "collapsed": true
   },
   "outputs": [],
   "source": [
    "import treetaggerwrapper\n",
    "import nltk\n",
    "import BadCharReplacer\n",
    "import WordDictObject\n",
    "import pprint\n",
    "import os\n",
    "import ftfy"
   ]
  },
  {
   "cell_type": "code",
   "execution_count": 13,
   "metadata": {
    "collapsed": true
   },
   "outputs": [],
   "source": [
    "wdpath = \"pickled_dicts/\"\n",
    "test_text = \\\n",
    "\"\"\"\n",
    "Ein Störenfried ist der, der unnützes Zeug tut und obendrein\n",
    "auch noch stört... Das könnte man sicher auch anders beschreiben,\n",
    "so dass wir nicht genau wissen mögen, in welcher Straße dieser\n",
    "eben beschriebene Mensch wohnt.\n",
    "Möglicherweise ist das aber auch zu viel verlangt und es rächt sich\n",
    "früher oder später ganz bestimmt.\n",
    "Weiß jemand genaueres?\n",
    "\"\"\"\n",
    "\n",
    "repl_text = \\\n",
    "\"\"\"\n",
    "Ein St�renfried ist der, der unn�tzes Zeug tut und obendrein\n",
    "auch noch st�rt... Das k�nnte man sicher auch anders beschreiben,\n",
    "so dass wir nicht genau wissen m�gen, in welcher Stra\\xDFe dieser\n",
    "eben beschriebene Mensch wohnt.\n",
    "M�glicherweise ist das aber auch zu viel verlangt und es r�cht sich\n",
    "fr�her oder sp�ter ganz bestimmt.\n",
    "Wei� jemand genaueres?\n",
    "\"\"\""
   ]
  },
  {
   "cell_type": "code",
   "execution_count": 3,
   "metadata": {
    "collapsed": true
   },
   "outputs": [],
   "source": [
    "wdo = WordDictObject.WordDictObject(wdpath)"
   ]
  },
  {
   "cell_type": "code",
   "execution_count": 14,
   "metadata": {
    "collapsed": true
   },
   "outputs": [],
   "source": [
    "ttagger = treetaggerwrapper.TreeTagger(TAGLANG='de')\n",
    "wpt = nltk.tokenize.RegexpTokenizer(\"[\\w|�]+|[^\\w\\s]+\")"
   ]
  },
  {
   "cell_type": "code",
   "execution_count": 15,
   "metadata": {
    "collapsed": true
   },
   "outputs": [],
   "source": [
    "bcr = BadCharReplacer.BadCharReplacer(wdo)"
   ]
  },
  {
   "cell_type": "code",
   "execution_count": 16,
   "metadata": {
    "collapsed": false
   },
   "outputs": [
    {
     "name": "stdout",
     "output_type": "stream",
     "text": [
      "[Tag(word='Ein', pos='ART', lemma='eine'),\n",
      " Tag(word='Störenfried', pos='NN', lemma='Störenfried'),\n",
      " Tag(word='ist', pos='VAFIN', lemma='sein'),\n",
      " Tag(word='der', pos='ART', lemma='die'),\n",
      " Tag(word=',', pos='$,', lemma=','),\n",
      " Tag(word='der', pos='ART', lemma='die'),\n",
      " Tag(word='unnützes', pos='ADJA', lemma='unnütz'),\n",
      " Tag(word='Zeug', pos='NN', lemma='Zeug'),\n",
      " Tag(word='tut', pos='VVFIN', lemma='tun'),\n",
      " Tag(word='und', pos='KON', lemma='und'),\n",
      " Tag(word='obendrein', pos='ADV', lemma='obendrein'),\n",
      " Tag(word='auch', pos='ADV', lemma='auch'),\n",
      " Tag(word='noch', pos='ADV', lemma='noch'),\n",
      " Tag(word='stört', pos='VVFIN', lemma='stören'),\n",
      " Tag(word='...', pos='$.', lemma='...'),\n",
      " Tag(word='Das', pos='PDS', lemma='die'),\n",
      " Tag(word='könnte', pos='VMFIN', lemma='können'),\n",
      " Tag(word='man', pos='PIS', lemma='man'),\n",
      " Tag(word='sicher', pos='ADJD', lemma='sicher'),\n",
      " Tag(word='auch', pos='ADV', lemma='auch'),\n",
      " Tag(word='anders', pos='ADV', lemma='anders'),\n",
      " Tag(word='beschreiben', pos='VVINF', lemma='beschreiben'),\n",
      " Tag(word=',', pos='$,', lemma=','),\n",
      " Tag(word='so', pos='ADV', lemma='so'),\n",
      " Tag(word='dass', pos='KOUS', lemma='dass'),\n",
      " Tag(word='wir', pos='PPER', lemma='wir'),\n",
      " Tag(word='nicht', pos='PTKNEG', lemma='nicht'),\n",
      " Tag(word='genau', pos='ADJD', lemma='genau'),\n",
      " Tag(word='wissen', pos='VVINF', lemma='wissen'),\n",
      " Tag(word='mögen', pos='VMFIN', lemma='mögen'),\n",
      " Tag(word=',', pos='$,', lemma=','),\n",
      " Tag(word='in', pos='APPR', lemma='in'),\n",
      " Tag(word='welcher', pos='PRELS', lemma='welche'),\n",
      " Tag(word='Straße', pos='NN', lemma='Straße'),\n",
      " Tag(word='dieser', pos='PDAT', lemma='dies'),\n",
      " Tag(word='eben', pos='ADV', lemma='eben'),\n",
      " Tag(word='beschriebene', pos='ADJA', lemma='beschrieben'),\n",
      " Tag(word='Mensch', pos='NN', lemma='Mensch'),\n",
      " Tag(word='wohnt', pos='VVFIN', lemma='wohnen'),\n",
      " Tag(word='.', pos='$.', lemma='.'),\n",
      " Tag(word='Möglicherweise', pos='ADV', lemma='möglicherweise'),\n",
      " Tag(word='ist', pos='VAFIN', lemma='sein'),\n",
      " Tag(word='das', pos='PDS', lemma='die'),\n",
      " Tag(word='aber', pos='ADV', lemma='aber'),\n",
      " Tag(word='auch', pos='ADV', lemma='auch'),\n",
      " Tag(word='zu', pos='PTKA', lemma='zu'),\n",
      " Tag(word='viel', pos='ADV', lemma='viel'),\n",
      " Tag(word='verlangt', pos='VVPP', lemma='verlangen'),\n",
      " Tag(word='und', pos='KON', lemma='und'),\n",
      " Tag(word='es', pos='PPER', lemma='es'),\n",
      " Tag(word='rächt', pos='VVFIN', lemma='rächen'),\n",
      " Tag(word='sich', pos='PRF', lemma='sich'),\n",
      " Tag(word='früher', pos='ADJD', lemma='früh'),\n",
      " Tag(word='oder', pos='KON', lemma='oder'),\n",
      " Tag(word='später', pos='ADJD', lemma='spät'),\n",
      " Tag(word='ganz', pos='ADV', lemma='ganz'),\n",
      " Tag(word='bestimmt', pos='VVPP', lemma='bestimmen'),\n",
      " Tag(word='.', pos='$.', lemma='.'),\n",
      " Tag(word='Weiß', pos='VVFIN', lemma='wissen'),\n",
      " Tag(word='jemand', pos='PIS', lemma='jemand'),\n",
      " Tag(word='genaueres', pos='ADJA', lemma='genau'),\n",
      " Tag(word='?', pos='$.', lemma='?')]\n"
     ]
    }
   ],
   "source": [
    "tokens = wpt.tokenize(repl_text)\n",
    "n_t = [bcr.repl_unicode_qmark(token) for token in tokens]\n",
    "\n",
    "tags = ttagger.tag_text(\" \".join(n_t))\n",
    "\n",
    "tags2 = treetaggerwrapper.make_tags(tags)\n",
    "pprint.pprint(tags2)"
   ]
  },
  {
   "cell_type": "code",
   "execution_count": 28,
   "metadata": {
    "collapsed": false
   },
   "outputs": [
    {
     "data": {
      "text/plain": [
       "'vervielfältigt'"
      ]
     },
     "execution_count": 28,
     "metadata": {},
     "output_type": "execute_result"
    }
   ],
   "source": [
    "ftfy.fix_text(\"vervielf\\xE4ltigt\")"
   ]
  },
  {
   "cell_type": "code",
   "execution_count": 18,
   "metadata": {
    "collapsed": false
   },
   "outputs": [
    {
     "data": {
      "text/plain": [
       "['Ein\\tART\\teine',\n",
       " 'Störenfried\\tNN\\tStörenfried',\n",
       " 'ist\\tVAFIN\\tsein',\n",
       " 'der\\tART\\tdie',\n",
       " ',\\t$,\\t,',\n",
       " 'der\\tART\\tdie',\n",
       " 'unnützes\\tADJA\\tunnütz',\n",
       " 'Zeug\\tNN\\tZeug',\n",
       " 'tut\\tVVFIN\\ttun',\n",
       " 'und\\tKON\\tund',\n",
       " 'obendrein\\tADV\\tobendrein',\n",
       " 'auch\\tADV\\tauch',\n",
       " 'noch\\tADV\\tnoch',\n",
       " 'stört\\tVVFIN\\tstören',\n",
       " '...\\t$.\\t...',\n",
       " 'Das\\tPDS\\tdie',\n",
       " 'könnte\\tVMFIN\\tkönnen',\n",
       " 'man\\tPIS\\tman',\n",
       " 'sicher\\tADJD\\tsicher',\n",
       " 'auch\\tADV\\tauch',\n",
       " 'anders\\tADV\\tanders',\n",
       " 'beschreiben\\tVVINF\\tbeschreiben',\n",
       " ',\\t$,\\t,',\n",
       " 'so\\tADV\\tso',\n",
       " 'dass\\tKOUS\\tdass',\n",
       " 'wir\\tPPER\\twir',\n",
       " 'nicht\\tPTKNEG\\tnicht',\n",
       " 'genau\\tADJD\\tgenau',\n",
       " 'wissen\\tVVINF\\twissen',\n",
       " 'mögen\\tVMFIN\\tmögen',\n",
       " ',\\t$,\\t,',\n",
       " 'in\\tAPPR\\tin',\n",
       " 'welcher\\tPRELS\\twelche',\n",
       " 'Straße\\tNN\\tStraße',\n",
       " 'dieser\\tPDAT\\tdies',\n",
       " 'eben\\tADV\\teben',\n",
       " 'beschriebene\\tADJA\\tbeschrieben',\n",
       " 'Mensch\\tNN\\tMensch',\n",
       " 'wohnt\\tVVFIN\\twohnen',\n",
       " '.\\t$.\\t.',\n",
       " 'Möglicherweise\\tADV\\tmöglicherweise',\n",
       " 'ist\\tVAFIN\\tsein',\n",
       " 'das\\tPDS\\tdie',\n",
       " 'aber\\tADV\\taber',\n",
       " 'auch\\tADV\\tauch',\n",
       " 'zu\\tPTKA\\tzu',\n",
       " 'viel\\tADV\\tviel',\n",
       " 'verlangt\\tVVPP\\tverlangen',\n",
       " 'und\\tKON\\tund',\n",
       " 'es\\tPPER\\tes',\n",
       " 'rächt\\tVVFIN\\trächen',\n",
       " 'sich\\tPRF\\tsich',\n",
       " 'früher\\tADJD\\tfrüh',\n",
       " 'oder\\tKON\\toder',\n",
       " 'später\\tADJD\\tspät',\n",
       " 'ganz\\tADV\\tganz',\n",
       " 'bestimmt\\tVVPP\\tbestimmen',\n",
       " '.\\t$.\\t.',\n",
       " 'Weiß\\tVVFIN\\twissen',\n",
       " 'jemand\\tPIS\\tjemand',\n",
       " 'genaueres\\tADJA\\tgenau',\n",
       " '?\\t$.\\t?']"
      ]
     },
     "execution_count": 18,
     "metadata": {},
     "output_type": "execute_result"
    }
   ],
   "source": [
    "tags"
   ]
  },
  {
   "cell_type": "code",
   "execution_count": null,
   "metadata": {
    "collapsed": true
   },
   "outputs": [],
   "source": []
  }
 ],
 "metadata": {
  "kernelspec": {
   "display_name": "Python 3",
   "language": "python",
   "name": "python3"
  },
  "language_info": {
   "codemirror_mode": {
    "name": "ipython",
    "version": 3
   },
   "file_extension": ".py",
   "mimetype": "text/x-python",
   "name": "python",
   "nbconvert_exporter": "python",
   "pygments_lexer": "ipython3",
   "version": "3.5.2"
  }
 },
 "nbformat": 4,
 "nbformat_minor": 0
}
