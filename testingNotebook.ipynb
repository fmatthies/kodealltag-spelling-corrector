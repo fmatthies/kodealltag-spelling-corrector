{
 "cells": [
  {
   "cell_type": "code",
   "execution_count": 1,
   "metadata": {
    "collapsed": true
   },
   "outputs": [],
   "source": [
    "import treetaggerwrapper\n",
    "import nltk\n",
    "import BadCharReplacer\n",
    "import WordDictObject\n",
    "import pprint"
   ]
  },
  {
   "cell_type": "code",
   "execution_count": 2,
   "metadata": {
    "collapsed": true
   },
   "outputs": [],
   "source": [
    "wdpath = \"/home/matthies/workspaces/github/kodealltag-spelling-corrector/pickled_dicts/\"\n",
    "test_text = \\\n",
    "\"\"\"\n",
    "Ein Störenfried ist der, der unnützes Zeug tut und obendrein\n",
    "auch noch stört... Das könnte man sicher auch anders beschreiben,\n",
    "so dass wir nicht genau wissen mögen, in welcher Straße dieser\n",
    "eben beschriebene Mensch wohnt.\n",
    "Möglicherweise ist das aber auch zu viel verlangt und es rächt sich\n",
    "früher oder später ganz bestimmt.\n",
    "Weiß jemand genaueres?\n",
    "\"\"\"\n",
    "\n",
    "repl_text = \\\n",
    "\"\"\"\n",
    "Ein St�renfried ist der, der unn�tzes Zeug tut und obendrein\n",
    "auch noch st�rt... Das k�nnte man sicher auch anders beschreiben,\n",
    "so dass wir nicht genau wissen m�gen, in welcher Stra�e dieser\n",
    "eben beschriebene Mensch wohnt.\n",
    "M�glicherweise ist das aber auch zu viel verlangt und es r�cht sich\n",
    "fr�her oder sp�ter ganz bestimmt.\n",
    "Wei� jemand genaueres?\n",
    "\"\"\""
   ]
  },
  {
   "cell_type": "code",
   "execution_count": 3,
   "metadata": {
    "collapsed": true
   },
   "outputs": [],
   "source": [
    "wdo = WordDictObject.WordDictObject(wdpath)"
   ]
  },
  {
   "cell_type": "code",
   "execution_count": 4,
   "metadata": {
    "collapsed": true
   },
   "outputs": [],
   "source": [
    "ttagger = treetaggerwrapper.TreeTagger(TAGLANG='de')\n",
    "wpt = nltk.tokenize.RegexpTokenizer(\"[\\w|�]+|[^\\w\\s]+\")"
   ]
  },
  {
   "cell_type": "code",
   "execution_count": 5,
   "metadata": {
    "collapsed": true
   },
   "outputs": [],
   "source": [
    "bcr = BadCharReplacer.BadCharReplacer(wdo)"
   ]
  },
  {
   "cell_type": "code",
   "execution_count": null,
   "metadata": {
    "collapsed": false
   },
   "outputs": [],
   "source": [
    "tokens = wpt.tokenize(repl_text)\n",
    "n_t = [bcr.repl_unicode_qmark(token) for token in tokens]\n",
    "\n",
    "tags = ttagger.tag_text(\" \".join(n_t))\n",
    "\n",
    "tags2 = treetaggerwrapper.make_tags(tags)\n",
    "pprint.pprint(tags2)"
   ]
  },
  {
   "cell_type": "code",
   "execution_count": null,
   "metadata": {
    "collapsed": true
   },
   "outputs": [],
   "source": []
  }
 ],
 "metadata": {
  "kernelspec": {
   "display_name": "Python 3",
   "language": "python",
   "name": "python3"
  },
  "language_info": {
   "codemirror_mode": {
    "name": "ipython",
    "version": 3
   },
   "file_extension": ".py",
   "mimetype": "text/x-python",
   "name": "python",
   "nbconvert_exporter": "python",
   "pygments_lexer": "ipython3",
   "version": "3.5.2"
  }
 },
 "nbformat": 4,
 "nbformat_minor": 0
}
